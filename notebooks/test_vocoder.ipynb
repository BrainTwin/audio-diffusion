{
 "cells": [
  {
   "cell_type": "markdown",
   "metadata": {},
   "source": [
    "# Vocoders\n",
    "\n",
    "- HifiGan (https://github.com/jik876/hifi-gan)\n",
    "- BigVGAN (https://github.com/NVIDIA/BigVGAN)\n",
    " "
   ]
  },
  {
   "cell_type": "markdown",
   "metadata": {},
   "source": [
    "# Autoencoder"
   ]
  },
  {
   "cell_type": "code",
   "execution_count": 1,
   "metadata": {},
   "outputs": [
    {
     "name": "stderr",
     "output_type": "stream",
     "text": [
      "/home/th716/.conda/envs/audiodiff_env/lib/python3.11/site-packages/tqdm/auto.py:21: TqdmWarning: IProgress not found. Please update jupyter and ipywidgets. See https://ipywidgets.readthedocs.io/en/stable/user_install.html\n",
      "  from .autonotebook import tqdm as notebook_tqdm\n"
     ]
    }
   ],
   "source": [
    "from audiodiffusion.audio_encoder import AudioEncoder\n",
    "\n",
    "audio_encoder = AudioEncoder.from_pretrained(\"teticio/audio-encoder\")"
   ]
  },
  {
   "cell_type": "code",
   "execution_count": 3,
   "metadata": {},
   "outputs": [],
   "source": [
    "res = audio_encoder.encode(['../cache/spotify_sleep_dataset/waveform/34451.wav'])"
   ]
  },
  {
   "cell_type": "code",
   "execution_count": 4,
   "metadata": {},
   "outputs": [
    {
     "data": {
      "text/plain": [
       "tensor([[  22.3818,   55.7454,  -45.7355,   75.1192,  -23.6553,    2.2764,\n",
       "           -5.6201,   25.8378,  -22.7567,   -9.3860,    6.8996,   47.9845,\n",
       "          -11.0239,   49.9943,   -0.5887,   49.8197,   49.5274,   26.3963,\n",
       "          -17.9764,  -40.2608,  -17.1629,   36.9612,    6.8959,   66.1374,\n",
       "          -47.4549,  102.3774,  -60.5647,   41.7779,   47.6061,   46.9786,\n",
       "           37.0211,   -0.6458,    7.7834,   28.1121,  -28.0773,   24.0048,\n",
       "          117.4891,  -16.0868,    7.5550,   77.5549,   -2.5127,  -34.7640,\n",
       "           21.7094,  -20.7481,    2.5825,   23.3617,   42.8699,  -48.1933,\n",
       "           91.7696,    6.7337,    1.7964,  -20.1088,    7.7989, -119.0542,\n",
       "          -14.9786,  -59.8400,   16.3396,  -26.4516,   22.9039,   29.4709,\n",
       "          -40.1346,  -40.8496,  -21.7695,   51.7043,  -15.3641,  -53.3828,\n",
       "          -54.8138,    4.8525,  -65.6569,  -29.4963,  -75.1400,   16.7820,\n",
       "          -22.5073,  -34.0118,  -15.1272,  -40.8402,    2.3038,   -9.5547,\n",
       "           -9.3951,   26.5354,   43.5837,  -61.5454,  -36.0152,   39.9624,\n",
       "           31.2743,  -25.6764,   16.7581,   33.5445,  -27.6861,  -15.1136,\n",
       "           34.3488,   28.1600,   -2.0529,   28.8355,   79.1497,  -47.2411,\n",
       "          -11.2095,  -34.0359,   51.6585,   -3.6605]])"
      ]
     },
     "execution_count": 4,
     "metadata": {},
     "output_type": "execute_result"
    }
   ],
   "source": [
    "res"
   ]
  },
  {
   "cell_type": "code",
   "execution_count": 6,
   "metadata": {},
   "outputs": [
    {
     "data": {
      "text/plain": [
       "100"
      ]
     },
     "execution_count": 6,
     "metadata": {},
     "output_type": "execute_result"
    }
   ],
   "source": [
    "len(res[0])"
   ]
  },
  {
   "cell_type": "code",
   "execution_count": 1,
   "metadata": {},
   "outputs": [
    {
     "name": "stderr",
     "output_type": "stream",
     "text": [
      "/home/th716/.conda/envs/audiodiff_env/lib/python3.11/site-packages/tqdm/auto.py:21: TqdmWarning: IProgress not found. Please update jupyter and ipywidgets. See https://ipywidgets.readthedocs.io/en/stable/user_install.html\n",
      "  from .autonotebook import tqdm as notebook_tqdm\n"
     ]
    }
   ],
   "source": [
    "from audiodiffusion.utils import convert_ldm_to_hf_vae"
   ]
  },
  {
   "cell_type": "code",
   "execution_count": null,
   "metadata": {},
   "outputs": [],
   "source": []
  }
 ],
 "metadata": {
  "kernelspec": {
   "display_name": "audiodiff_env",
   "language": "python",
   "name": "python3"
  },
  "language_info": {
   "codemirror_mode": {
    "name": "ipython",
    "version": 3
   },
   "file_extension": ".py",
   "mimetype": "text/x-python",
   "name": "python",
   "nbconvert_exporter": "python",
   "pygments_lexer": "ipython3",
   "version": "3.11.7"
  }
 },
 "nbformat": 4,
 "nbformat_minor": 2
}
