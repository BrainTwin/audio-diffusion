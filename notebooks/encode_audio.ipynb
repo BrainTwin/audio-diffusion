{
 "cells": [
  {
   "cell_type": "markdown",
   "metadata": {},
   "source": [
    "# Encode audio with a text encoder!"
   ]
  },
  {
   "cell_type": "code",
   "execution_count": 1,
   "metadata": {},
   "outputs": [
    {
     "name": "stdout",
     "output_type": "stream",
     "text": [
      "Requirement already satisfied: transformers in /home/th716/.conda/envs/audiodiff_env/lib/python3.11/site-packages (4.40.0)\n",
      "Requirement already satisfied: datasets in /home/th716/.conda/envs/audiodiff_env/lib/python3.11/site-packages (2.19.0)\n",
      "Requirement already satisfied: pandas in /home/th716/.conda/envs/audiodiff_env/lib/python3.11/site-packages (2.2.2)\n",
      "Requirement already satisfied: sentencepiece in /home/th716/.conda/envs/audiodiff_env/lib/python3.11/site-packages (0.2.0)\n",
      "Requirement already satisfied: filelock in /home/th716/.conda/envs/audiodiff_env/lib/python3.11/site-packages (from transformers) (3.13.4)\n",
      "Requirement already satisfied: huggingface-hub<1.0,>=0.19.3 in /home/th716/.conda/envs/audiodiff_env/lib/python3.11/site-packages (from transformers) (0.22.2)\n",
      "Requirement already satisfied: numpy>=1.17 in /home/th716/.conda/envs/audiodiff_env/lib/python3.11/site-packages (from transformers) (1.23.5)\n",
      "Requirement already satisfied: packaging>=20.0 in /home/th716/.conda/envs/audiodiff_env/lib/python3.11/site-packages (from transformers) (24.0)\n",
      "Requirement already satisfied: pyyaml>=5.1 in /home/th716/.conda/envs/audiodiff_env/lib/python3.11/site-packages (from transformers) (6.0.1)\n",
      "Requirement already satisfied: regex!=2019.12.17 in /home/th716/.conda/envs/audiodiff_env/lib/python3.11/site-packages (from transformers) (2024.4.16)\n",
      "Requirement already satisfied: requests in /home/th716/.conda/envs/audiodiff_env/lib/python3.11/site-packages (from transformers) (2.31.0)\n",
      "Requirement already satisfied: tokenizers<0.20,>=0.19 in /home/th716/.conda/envs/audiodiff_env/lib/python3.11/site-packages (from transformers) (0.19.1)\n",
      "Requirement already satisfied: safetensors>=0.4.1 in /home/th716/.conda/envs/audiodiff_env/lib/python3.11/site-packages (from transformers) (0.4.3)\n",
      "Requirement already satisfied: tqdm>=4.27 in /home/th716/.conda/envs/audiodiff_env/lib/python3.11/site-packages (from transformers) (4.66.2)\n",
      "Requirement already satisfied: pyarrow>=12.0.0 in /home/th716/.conda/envs/audiodiff_env/lib/python3.11/site-packages (from datasets) (16.0.0)\n",
      "Requirement already satisfied: pyarrow-hotfix in /home/th716/.conda/envs/audiodiff_env/lib/python3.11/site-packages (from datasets) (0.6)\n",
      "Requirement already satisfied: dill<0.3.9,>=0.3.0 in /home/th716/.conda/envs/audiodiff_env/lib/python3.11/site-packages (from datasets) (0.3.8)\n",
      "Requirement already satisfied: xxhash in /home/th716/.conda/envs/audiodiff_env/lib/python3.11/site-packages (from datasets) (3.4.1)\n",
      "Requirement already satisfied: multiprocess in /home/th716/.conda/envs/audiodiff_env/lib/python3.11/site-packages (from datasets) (0.70.16)\n",
      "Requirement already satisfied: fsspec<=2024.3.1,>=2023.1.0 in /home/th716/.conda/envs/audiodiff_env/lib/python3.11/site-packages (from fsspec[http]<=2024.3.1,>=2023.1.0->datasets) (2024.3.1)\n",
      "Requirement already satisfied: aiohttp in /home/th716/.conda/envs/audiodiff_env/lib/python3.11/site-packages (from datasets) (3.9.5)\n",
      "Requirement already satisfied: python-dateutil>=2.8.2 in /home/th716/.conda/envs/audiodiff_env/lib/python3.11/site-packages (from pandas) (2.9.0)\n",
      "Requirement already satisfied: pytz>=2020.1 in /home/th716/.conda/envs/audiodiff_env/lib/python3.11/site-packages (from pandas) (2024.1)\n",
      "Requirement already satisfied: tzdata>=2022.7 in /home/th716/.conda/envs/audiodiff_env/lib/python3.11/site-packages (from pandas) (2024.1)\n",
      "Requirement already satisfied: aiosignal>=1.1.2 in /home/th716/.conda/envs/audiodiff_env/lib/python3.11/site-packages (from aiohttp->datasets) (1.3.1)\n",
      "Requirement already satisfied: attrs>=17.3.0 in /home/th716/.conda/envs/audiodiff_env/lib/python3.11/site-packages (from aiohttp->datasets) (23.2.0)\n",
      "Requirement already satisfied: frozenlist>=1.1.1 in /home/th716/.conda/envs/audiodiff_env/lib/python3.11/site-packages (from aiohttp->datasets) (1.4.1)\n",
      "Requirement already satisfied: multidict<7.0,>=4.5 in /home/th716/.conda/envs/audiodiff_env/lib/python3.11/site-packages (from aiohttp->datasets) (6.0.5)\n",
      "Requirement already satisfied: yarl<2.0,>=1.0 in /home/th716/.conda/envs/audiodiff_env/lib/python3.11/site-packages (from aiohttp->datasets) (1.9.4)\n",
      "Requirement already satisfied: typing-extensions>=3.7.4.3 in /home/th716/.conda/envs/audiodiff_env/lib/python3.11/site-packages (from huggingface-hub<1.0,>=0.19.3->transformers) (4.11.0)\n",
      "Requirement already satisfied: six>=1.5 in /home/th716/.conda/envs/audiodiff_env/lib/python3.11/site-packages (from python-dateutil>=2.8.2->pandas) (1.16.0)\n",
      "Requirement already satisfied: charset-normalizer<4,>=2 in /home/th716/.conda/envs/audiodiff_env/lib/python3.11/site-packages (from requests->transformers) (3.3.2)\n",
      "Requirement already satisfied: idna<4,>=2.5 in /home/th716/.conda/envs/audiodiff_env/lib/python3.11/site-packages (from requests->transformers) (3.7)\n",
      "Requirement already satisfied: urllib3<3,>=1.21.1 in /home/th716/.conda/envs/audiodiff_env/lib/python3.11/site-packages (from requests->transformers) (2.2.1)\n",
      "Requirement already satisfied: certifi>=2017.4.17 in /home/th716/.conda/envs/audiodiff_env/lib/python3.11/site-packages (from requests->transformers) (2024.2.2)\n",
      "\u001b[33mDEPRECATION: pytorch-lightning 1.7.7 has a non-standard dependency specifier torch>=1.9.*. pip 24.0 will enforce this behaviour change. A possible replacement is to upgrade to a newer version of pytorch-lightning or contact the author to suggest that they release a version with a conforming dependency specifiers. Discussion can be found at https://github.com/pypa/pip/issues/12063\u001b[0m\u001b[33m\n",
      "\u001b[0m"
     ]
    }
   ],
   "source": [
    "# Install necessary libraries\n",
    "!pip install transformers datasets pandas sentencepiece"
   ]
  },
  {
   "cell_type": "code",
   "execution_count": 2,
   "metadata": {},
   "outputs": [
    {
     "name": "stderr",
     "output_type": "stream",
     "text": [
      "/home/th716/.conda/envs/audiodiff_env/lib/python3.11/site-packages/tqdm/auto.py:21: TqdmWarning: IProgress not found. Please update jupyter and ipywidgets. See https://ipywidgets.readthedocs.io/en/stable/user_install.html\n",
      "  from .autonotebook import tqdm as notebook_tqdm\n"
     ]
    }
   ],
   "source": [
    "import os\n",
    "import pandas as pd\n",
    "import pickle\n",
    "from tqdm.auto import tqdm\n",
    "from transformers import T5Tokenizer, T5Model, T5EncoderModel"
   ]
  },
  {
   "cell_type": "code",
   "execution_count": 5,
   "metadata": {},
   "outputs": [
    {
     "name": "stderr",
     "output_type": "stream",
     "text": [
      "Special tokens have been added in the vocabulary, make sure the associated word embeddings are fine-tuned or trained.\n"
     ]
    }
   ],
   "source": [
    "\n",
    "csv_file_path = \"../cache/spotify_sleep_dataset/csv/Sleep_FullDataset_withDuplicates.csv\"\n",
    "df = pd.read_csv(csv_file_path)\n",
    "\n",
    "model_name = \"t5-small\"\n",
    "tokenizer = T5Tokenizer.from_pretrained(model_name)\n",
    "model = T5EncoderModel.from_pretrained(model_name)\n",
    "\n",
    "def encode_text(text):\n",
    "    inputs = tokenizer(text, return_tensors=\"pt\", padding=True, truncation=True)\n",
    "    outputs = model(**inputs)\n",
    "    return outputs.last_hidden_state.mean(dim=1).detach().numpy()\n"
   ]
  },
  {
   "cell_type": "code",
   "execution_count": 7,
   "metadata": {},
   "outputs": [
    {
     "name": "stdout",
     "output_type": "stream",
     "text": [
      "Encodings saved to 'encodings.pkl'\n"
     ]
    }
   ],
   "source": [
    "import numpy as np\n",
    "\n",
    "text1 = 'chillhop lo-fi beats'\n",
    "text2 = 'sleep'\n",
    "text3 = 'lullaby'\n",
    "text4 = 'binaural'\n",
    "text5 = 'compositional ambient'\n",
    "text6 = 'ambient'\n",
    "text7 = 'brain waves'\n",
    "text8 = 'calming instrumental'\n",
    "\n",
    "\n",
    "encoding1 = encode_text(text1)\n",
    "encoding2 = encode_text(text2)\n",
    "encoding3 = encode_text(text3)\n",
    "encoding4 = encode_text(text4)\n",
    "encoding5 = encode_text(text5)\n",
    "encoding6 = encode_text(text6)\n",
    "encoding7 = encode_text(text7)\n",
    "encoding8 = encode_text(text8)\n",
    "\n",
    "encodings = np.stack([encoding1, encoding2, encoding3, encoding4, encoding5, encoding6, encoding7, encoding8], axis=0).reshape(8, 1, 512)\n",
    "\n",
    "with open('encodings_512.pkl', 'wb') as f:\n",
    "    pickle.dump(encodings, f)\n",
    "\n",
    "print(\"Encodings saved to 'encodings.pkl'\")"
   ]
  },
  {
   "cell_type": "code",
   "execution_count": 6,
   "metadata": {},
   "outputs": [
    {
     "data": {
      "text/plain": [
       "(8, 1, 768)"
      ]
     },
     "execution_count": 6,
     "metadata": {},
     "output_type": "execute_result"
    }
   ],
   "source": [
    "encodings.shape"
   ]
  },
  {
   "cell_type": "code",
   "execution_count": 10,
   "metadata": {},
   "outputs": [
    {
     "name": "stderr",
     "output_type": "stream",
     "text": [
      "  0%|          | 0/11485 [00:00<?, ?it/s]Asking to truncate to max_length but no maximum length is provided and the model has no predefined maximum length. Default to no truncation.\n"
     ]
    },
    {
     "name": "stderr",
     "output_type": "stream",
     "text": [
      "100%|██████████| 11485/11485 [14:24<00:00, 13.28it/s]\n"
     ]
    },
    {
     "name": "stdout",
     "output_type": "stream",
     "text": [
      "Encodings saved to ../cache/spotify_sleep_dataset/genre_encodings.p\n"
     ]
    }
   ],
   "source": [
    "\n",
    "audio_dir = \"../cache/spotify_sleep_dataset/waveform\"\n",
    "\n",
    "encodings = {}\n",
    "for audio_file in tqdm(os.listdir(audio_dir)):\n",
    "    if audio_file.endswith(\".wav\"):\n",
    "        file_id = int(os.path.splitext(audio_file)[0])\n",
    "        genre_text = df.loc[df.index == file_id, 'Genres'].values[0]\n",
    "        encodings[audio_file] = encode_text(genre_text)\n",
    "\n",
    "output_file = \"../cache/spotify_sleep_dataset/genre_encodings.p\"\n",
    "with open(output_file, \"wb\") as f:\n",
    "    pickle.dump(encodings, f)\n",
    "\n",
    "print(f\"Encodings saved to {output_file}\")\n"
   ]
  },
  {
   "cell_type": "code",
   "execution_count": 5,
   "metadata": {},
   "outputs": [],
   "source": [
    "ssd_df = pd.read_csv(csv_file_path)"
   ]
  }
 ],
 "metadata": {
  "kernelspec": {
   "display_name": "audiodiff_env",
   "language": "python",
   "name": "python3"
  },
  "language_info": {
   "codemirror_mode": {
    "name": "ipython",
    "version": 3
   },
   "file_extension": ".py",
   "mimetype": "text/x-python",
   "name": "python",
   "nbconvert_exporter": "python",
   "pygments_lexer": "ipython3",
   "version": "3.11.7"
  }
 },
 "nbformat": 4,
 "nbformat_minor": 2
}
