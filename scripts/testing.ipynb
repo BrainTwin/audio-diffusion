{
 "cells": [
  {
   "cell_type": "code",
   "execution_count": 2,
   "metadata": {},
   "outputs": [],
   "source": [
    "from audioset_download import Downloader"
   ]
  },
  {
   "cell_type": "code",
   "execution_count": 5,
   "metadata": {},
   "outputs": [
    {
     "name": "stdout",
     "output_type": "stream",
     "text": [
      "Downloading 2041789 files...\n"
     ]
    },
    {
     "name": "stderr",
     "output_type": "stream",
     "text": [
      "[Parallel(n_jobs=2)]: Using backend LokyBackend with 2 concurrent workers.\n",
      "WARNING: Post-Processor arguments given without specifying name. The arguments will be given to all post-processors\n",
      "WARNING: Post-Processor arguments given without specifying name. The arguments will be given to all post-processors\n"
     ]
    },
    {
     "name": "stdout",
     "output_type": "stream",
     "text": [
      "[youtube] Extracting URL: https://www.youtube.com/watch?v=---2_BBVHAA\n",
      "[youtube] Extracting URL: https://www.youtube.com/watch?v=---1_cCGK4M\n",
      "[youtube] ---2_BBVHAA: Downloading webpage\n",
      "[youtube] ---1_cCGK4M: Downloading webpage\n",
      "[youtube] ---2_BBVHAA: Downloading ios player API JSON\n",
      "[youtube] ---1_cCGK4M: Downloading ios player API JSON\n",
      "[youtube] ---1_cCGK4M: Downloading m3u8 information\n",
      "[info] ---1_cCGK4M: Downloading 1 format(s): 140\n",
      "[download] Destination: ../cache/audioset/train/Railroad car, train wagon/---1_cCGK4M_0.0-10.0.m4a\n",
      "[download] 100% of  374.31KiB in 00:00:00 at 3.31MiB/s   \n"
     ]
    },
    {
     "name": "stderr",
     "output_type": "stream",
     "text": [
      "WARNING: ---1_cCGK4M: writing DASH m4a. Only some players support this container. Install ffmpeg to fix this automatically\n",
      "ERROR: Postprocessing: ffprobe and ffmpeg not found. Please install or provide the path using --ffmpeg-location\n"
     ]
    },
    {
     "name": "stdout",
     "output_type": "stream",
     "text": [
      "[youtube] ---2_BBVHAA: Downloading m3u8 information\n",
      "[info] ---2_BBVHAA: Downloading 1 format(s): 251\n",
      "[download] Destination: ../cache/audioset/train/Speech/---2_BBVHAA_30.0-40.0.webm\n",
      "[download]   2.0% of    6.28MiB at    7.80MiB/s ETA 00:00"
     ]
    },
    {
     "name": "stderr",
     "output_type": "stream",
     "text": [
      "[Parallel(n_jobs=2)]: Done   1 tasks      | elapsed:    3.8s\n"
     ]
    },
    {
     "name": "stdout",
     "output_type": "stream",
     "text": [
      "[download] 100% of    6.28MiB in 00:00:00 at 31.67MiB/s  \n"
     ]
    },
    {
     "name": "stderr",
     "output_type": "stream",
     "text": [
      "ERROR: Postprocessing: ffprobe and ffmpeg not found. Please install or provide the path using --ffmpeg-location\n",
      "WARNING: Post-Processor arguments given without specifying name. The arguments will be given to all post-processors\n"
     ]
    },
    {
     "name": "stdout",
     "output_type": "stream",
     "text": [
      "[youtube] Extracting URL: https://www.youtube.com/watch?v=---B_v8ZoBY\n",
      "[youtube] ---B_v8ZoBY: Downloading webpage\n"
     ]
    },
    {
     "name": "stderr",
     "output_type": "stream",
     "text": [
      "WARNING: Post-Processor arguments given without specifying name. The arguments will be given to all post-processors\n"
     ]
    },
    {
     "name": "stdout",
     "output_type": "stream",
     "text": [
      "[youtube] Extracting URL: https://www.youtube.com/watch?v=---EDNidJUA\n",
      "[youtube] ---EDNidJUA: Downloading webpage\n",
      "[youtube] ---B_v8ZoBY: Downloading ios player API JSON\n"
     ]
    },
    {
     "name": "stderr",
     "output_type": "stream",
     "text": [
      "WARNING: [youtube] Webpage contains broken formats (poToken experiment detected). Ignoring initial player response\n",
      "ERROR: [youtube] ---EDNidJUA: Video unavailable. This video is no longer available because the YouTube account associated with this video has been terminated.\n"
     ]
    },
    {
     "name": "stdout",
     "output_type": "stream",
     "text": [
      "[youtube] ---EDNidJUA: Downloading ios player API JSON\n",
      "[youtube] ---B_v8ZoBY: Downloading player 0e90208b\n",
      "[youtube] ---B_v8ZoBY: Downloading web player API JSON\n"
     ]
    },
    {
     "name": "stderr",
     "output_type": "stream",
     "text": [
      "WARNING: [youtube] API returned broken formats (poToken experiment detected). Retrying (1/3)...\n"
     ]
    },
    {
     "name": "stdout",
     "output_type": "stream",
     "text": [
      "[youtube] ---B_v8ZoBY: Downloading web player API JSON\n"
     ]
    },
    {
     "name": "stderr",
     "output_type": "stream",
     "text": [
      "WARNING: Post-Processor arguments given without specifying name. The arguments will be given to all post-processors\n"
     ]
    },
    {
     "name": "stdout",
     "output_type": "stream",
     "text": [
      "[youtube] Extracting URL: https://www.youtube.com/watch?v=---N4cFAE1A\n",
      "[youtube] ---N4cFAE1A: Downloading webpage\n",
      "[youtube] ---B_v8ZoBY: Downloading m3u8 information\n",
      "[youtube] ---N4cFAE1A: Downloading ios player API JSON\n",
      "[info] ---B_v8ZoBY: Downloading 1 format(s): 140\n",
      "[download] Destination: ../cache/audioset/train/Music/---B_v8ZoBY_30.0-40.0.m4a\n",
      "[download]  62.7% of    3.19MiB at   46.18MiB/s ETA 00:00"
     ]
    },
    {
     "name": "stderr",
     "output_type": "stream",
     "text": [
      "ERROR: [youtube] ---N4cFAE1A: Private video. Sign in if you've been granted access to this video\n",
      "WARNING: ---B_v8ZoBY: writing DASH m4a. Only some players support this container. Install ffmpeg to fix this automatically\n",
      "ERROR: Postprocessing: ffprobe and ffmpeg not found. Please install or provide the path using --ffmpeg-location\n",
      "[Parallel(n_jobs=2)]: Done   4 tasks      | elapsed:    6.5s\n"
     ]
    },
    {
     "name": "stdout",
     "output_type": "stream",
     "text": [
      "[download] 100% of    3.19MiB in 00:00:00 at 16.67MiB/s  \n"
     ]
    },
    {
     "name": "stderr",
     "output_type": "stream",
     "text": [
      "WARNING: Post-Processor arguments given without specifying name. The arguments will be given to all post-processors\n"
     ]
    },
    {
     "name": "stdout",
     "output_type": "stream",
     "text": [
      "[youtube] Extracting URL: https://www.youtube.com/watch?v=---fcVQUf3E\n",
      "[youtube] ---fcVQUf3E: Downloading webpage\n"
     ]
    },
    {
     "name": "stderr",
     "output_type": "stream",
     "text": [
      "WARNING: Post-Processor arguments given without specifying name. The arguments will be given to all post-processors\n"
     ]
    },
    {
     "name": "stdout",
     "output_type": "stream",
     "text": [
      "[youtube] Extracting URL: https://www.youtube.com/watch?v=---g9OGAhwc\n",
      "[youtube] ---g9OGAhwc: Downloading webpage\n",
      "[youtube] ---fcVQUf3E: Downloading ios player API JSON\n",
      "[youtube] ---g9OGAhwc: Downloading ios player API JSON\n",
      "[youtube] ---fcVQUf3E: Downloading m3u8 information\n",
      "[youtube] ---g9OGAhwc: Downloading m3u8 information\n",
      "[info] ---fcVQUf3E: Downloading 1 format(s): 140\n",
      "[download] Destination: ../cache/audioset/train/Boat, Water vehicle/---fcVQUf3E_30.0-40.0.m4a\n",
      "[download]   1.2% of    2.54MiB at    5.20MiB/s ETA 00:00[info] ---g9OGAhwc: Downloading 1 format(s): 140\n",
      "[download] 100% of    2.54MiB in 00:00:00 at 21.29MiB/s  \n",
      "[download] Destination: ../cache/audioset/train/Music/---g9OGAhwc_30.0-40.0.m4a\n",
      "[download] 100% of    1.91MiB in 00:00:00 at 17.73MiB/s  \n"
     ]
    },
    {
     "name": "stderr",
     "output_type": "stream",
     "text": [
      "WARNING: ---fcVQUf3E: writing DASH m4a. Only some players support this container. Install ffmpeg to fix this automatically\n",
      "ERROR: Postprocessing: ffprobe and ffmpeg not found. Please install or provide the path using --ffmpeg-location\n",
      "WARNING: ---g9OGAhwc: writing DASH m4a. Only some players support this container. Install ffmpeg to fix this automatically\n",
      "ERROR: Postprocessing: ffprobe and ffmpeg not found. Please install or provide the path using --ffmpeg-location\n",
      "WARNING: Post-Processor arguments given without specifying name. The arguments will be given to all post-processors\n",
      "WARNING: Post-Processor arguments given without specifying name. The arguments will be given to all post-processors\n"
     ]
    },
    {
     "name": "stdout",
     "output_type": "stream",
     "text": [
      "[youtube] Extracting URL: https://www.youtube.com/watch?v=---mO--kRQk\n",
      "[youtube] Extracting URL: https://www.youtube.com/watch?v=---lTs1dxhU\n",
      "[youtube] ---mO--kRQk: Downloading webpage\n",
      "[youtube] ---lTs1dxhU: Downloading webpage\n",
      "[youtube] ---mO--kRQk: Downloading ios player API JSON\n"
     ]
    },
    {
     "name": "stderr",
     "output_type": "stream",
     "text": [
      "ERROR: [youtube] ---mO--kRQk: Video unavailable\n"
     ]
    },
    {
     "name": "stdout",
     "output_type": "stream",
     "text": [
      "[youtube] ---lTs1dxhU: Downloading ios player API JSON\n"
     ]
    },
    {
     "name": "stderr",
     "output_type": "stream",
     "text": [
      "WARNING: Post-Processor arguments given without specifying name. The arguments will be given to all post-processors\n"
     ]
    },
    {
     "name": "stdout",
     "output_type": "stream",
     "text": [
      "[youtube] Extracting URL: https://www.youtube.com/watch?v=---qub7uxgs\n",
      "[youtube] ---qub7uxgs: Downloading webpage\n"
     ]
    },
    {
     "name": "stderr",
     "output_type": "stream",
     "text": [
      "WARNING: [youtube] Webpage contains broken formats (poToken experiment detected). Ignoring initial player response\n"
     ]
    },
    {
     "name": "stdout",
     "output_type": "stream",
     "text": [
      "[youtube] ---qub7uxgs: Downloading ios player API JSON\n",
      "[youtube] ---qub7uxgs: Downloading player 0e90208b\n",
      "[youtube] ---lTs1dxhU: Downloading m3u8 information\n",
      "[youtube] ---qub7uxgs: Downloading web player API JSON\n",
      "[info] ---lTs1dxhU: Downloading 1 format(s): 251\n",
      "[download] Destination: ../cache/audioset/train/Motor vehicle (road)/---lTs1dxhU_30.0-40.0.webm\n",
      "[download] 100% of  538.57KiB in 00:00:00 at 5.07MiB/s   \n"
     ]
    },
    {
     "name": "stderr",
     "output_type": "stream",
     "text": [
      "ERROR: Postprocessing: ffprobe and ffmpeg not found. Please install or provide the path using --ffmpeg-location\n",
      "[Parallel(n_jobs=2)]: Done   9 tasks      | elapsed:   12.1s\n",
      "WARNING: Post-Processor arguments given without specifying name. The arguments will be given to all post-processors\n"
     ]
    },
    {
     "name": "stdout",
     "output_type": "stream",
     "text": [
      "[youtube] Extracting URL: https://www.youtube.com/watch?v=---yQzzLcFU\n",
      "[youtube] ---yQzzLcFU: Downloading webpage\n",
      "[youtube] ---qub7uxgs: Downloading m3u8 information\n",
      "[info] ---qub7uxgs: Downloading 1 format(s): 251\n",
      "[download] Destination: ../cache/audioset/train/Speech/---qub7uxgs_30.0-40.0.webm\n",
      "[download] 100% of    3.26MiB in 00:00:00 at 24.36MiB/s  \n",
      "[youtube] ---yQzzLcFU: Downloading ios player API JSON\n"
     ]
    },
    {
     "name": "stderr",
     "output_type": "stream",
     "text": [
      "ERROR: Postprocessing: ffprobe and ffmpeg not found. Please install or provide the path using --ffmpeg-location\n",
      "WARNING: Post-Processor arguments given without specifying name. The arguments will be given to all post-processors\n"
     ]
    },
    {
     "name": "stdout",
     "output_type": "stream",
     "text": [
      "[youtube] Extracting URL: https://www.youtube.com/watch?v=--04kMEQOAs\n",
      "[youtube] --04kMEQOAs: Downloading webpage\n",
      "[youtube] ---yQzzLcFU: Downloading m3u8 information\n",
      "[info] ---yQzzLcFU: Downloading 1 format(s): 140\n",
      "[download] Destination: ../cache/audioset/train/Heavy engine (low frequency)/---yQzzLcFU_30.0-40.0.m4a\n",
      "[download]  43.2% of    9.26MiB at   66.80MiB/s ETA 00:00"
     ]
    },
    {
     "name": "stderr",
     "output_type": "stream",
     "text": [
      "WARNING: [youtube] Webpage contains broken formats (poToken experiment detected). Ignoring initial player response\n"
     ]
    },
    {
     "name": "stdout",
     "output_type": "stream",
     "text": [
      "[youtube] --04kMEQOAs: Downloading ios player API JSON\n",
      "[youtube] --04kMEQOAs: Downloading player 0e90208b\n",
      "[youtube] --04kMEQOAs: Downloading web player API JSON\n",
      "[download] 100% of    9.26MiB in 00:00:00 at 13.36MiB/s  \n"
     ]
    },
    {
     "name": "stderr",
     "output_type": "stream",
     "text": [
      "WARNING: ---yQzzLcFU: writing DASH m4a. Only some players support this container. Install ffmpeg to fix this automatically\n",
      "ERROR: Postprocessing: ffprobe and ffmpeg not found. Please install or provide the path using --ffmpeg-location\n",
      "WARNING: Post-Processor arguments given without specifying name. The arguments will be given to all post-processors\n"
     ]
    },
    {
     "name": "stdout",
     "output_type": "stream",
     "text": [
      "[youtube] Extracting URL: https://www.youtube.com/watch?v=--0AzKXCHj8\n",
      "[youtube] --0AzKXCHj8: Downloading webpage\n",
      "[youtube] --04kMEQOAs: Downloading m3u8 information\n",
      "[info] --04kMEQOAs: Downloading 1 format(s): 140\n",
      "[download] Destination: ../cache/audioset/train/Run/--04kMEQOAs_0.0-10.0.m4a\n",
      "[download] 100% of  155.88KiB in 00:00:00 at 2.22MiB/s   \n"
     ]
    },
    {
     "name": "stderr",
     "output_type": "stream",
     "text": [
      "WARNING: --04kMEQOAs: writing DASH m4a. Only some players support this container. Install ffmpeg to fix this automatically\n",
      "ERROR: Postprocessing: ffprobe and ffmpeg not found. Please install or provide the path using --ffmpeg-location\n",
      "WARNING: [youtube] Webpage contains broken formats (poToken experiment detected). Ignoring initial player response\n"
     ]
    },
    {
     "name": "stdout",
     "output_type": "stream",
     "text": [
      "[youtube] --0AzKXCHj8: Downloading ios player API JSON\n",
      "[youtube] --0AzKXCHj8: Downloading player 0e90208b\n",
      "[youtube] --0AzKXCHj8: Downloading web player API JSON\n"
     ]
    },
    {
     "name": "stderr",
     "output_type": "stream",
     "text": [
      "WARNING: Post-Processor arguments given without specifying name. The arguments will be given to all post-processors\n"
     ]
    },
    {
     "name": "stdout",
     "output_type": "stream",
     "text": [
      "[youtube] Extracting URL: https://www.youtube.com/watch?v=--0B3G_C3qc\n",
      "[youtube] --0B3G_C3qc: Downloading webpage\n",
      "[youtube] --0AzKXCHj8: Downloading m3u8 information\n",
      "[info] --0AzKXCHj8: Downloading 1 format(s): 140\n",
      "[download] Destination: ../cache/audioset/train/Music/--0AzKXCHj8_22.0-32.0.m4a\n",
      "[download] 100% of  494.70KiB in 00:00:00 at 5.95MiB/s   \n"
     ]
    },
    {
     "name": "stderr",
     "output_type": "stream",
     "text": [
      "WARNING: --0AzKXCHj8: writing DASH m4a. Only some players support this container. Install ffmpeg to fix this automatically\n",
      "ERROR: Postprocessing: ffprobe and ffmpeg not found. Please install or provide the path using --ffmpeg-location\n",
      "WARNING: [youtube] Webpage contains broken formats (poToken experiment detected). Ignoring initial player response\n"
     ]
    },
    {
     "name": "stdout",
     "output_type": "stream",
     "text": [
      "[youtube] --0B3G_C3qc: Downloading ios player API JSON\n",
      "[youtube] --0B3G_C3qc: Downloading player 250a2ff7\n",
      "[youtube] --0B3G_C3qc: Downloading web player API JSON\n"
     ]
    },
    {
     "name": "stderr",
     "output_type": "stream",
     "text": [
      "WARNING: Post-Processor arguments given without specifying name. The arguments will be given to all post-processors\n"
     ]
    },
    {
     "name": "stdout",
     "output_type": "stream",
     "text": [
      "[youtube] Extracting URL: https://www.youtube.com/watch?v=--0CNhurbZE\n",
      "[youtube] --0CNhurbZE: Downloading webpage\n",
      "[youtube] --0B3G_C3qc: Downloading m3u8 information\n",
      "[youtube] --0CNhurbZE: Downloading ios player API JSON\n",
      "[youtube] --0CNhurbZE: Downloading player 0e90208b\n",
      "[info] --0B3G_C3qc: Downloading 1 format(s): 140\n"
     ]
    },
    {
     "name": "stderr",
     "output_type": "stream",
     "text": [
      "WARNING: [youtube] Webpage contains broken formats (poToken experiment detected). Ignoring initial player response\n"
     ]
    },
    {
     "name": "stdout",
     "output_type": "stream",
     "text": [
      "[youtube] --0CNhurbZE: Downloading web player API JSON\n",
      "[download] Destination: ../cache/audioset/train/Speech/--0B3G_C3qc_10.0-20.0.m4a\n",
      "[download] 100% of    4.82MiB in 00:00:00 at 29.49MiB/s  \n"
     ]
    },
    {
     "name": "stderr",
     "output_type": "stream",
     "text": [
      "WARNING: --0B3G_C3qc: writing DASH m4a. Only some players support this container. Install ffmpeg to fix this automatically\n",
      "ERROR: Postprocessing: ffprobe and ffmpeg not found. Please install or provide the path using --ffmpeg-location\n",
      "[Parallel(n_jobs=2)]: Done  14 tasks      | elapsed:   19.5s\n",
      "WARNING: Post-Processor arguments given without specifying name. The arguments will be given to all post-processors\n"
     ]
    },
    {
     "name": "stdout",
     "output_type": "stream",
     "text": [
      "[youtube] Extracting URL: https://www.youtube.com/watch?v=--0F7kbzAMA\n",
      "[youtube] --0F7kbzAMA: Downloading webpage\n",
      "[youtube] --0CNhurbZE: Downloading m3u8 information\n",
      "[info] --0CNhurbZE: Downloading 1 format(s): 140\n",
      "[download] Destination: ../cache/audioset/train/Speech/--0CNhurbZE_30.0-40.0.m4a\n",
      "[download] 100% of    2.51MiB in 00:00:00 at 22.58MiB/s  \n",
      "[youtube] --0F7kbzAMA: Downloading ios player API JSON\n"
     ]
    },
    {
     "name": "stderr",
     "output_type": "stream",
     "text": [
      "WARNING: --0CNhurbZE: writing DASH m4a. Only some players support this container. Install ffmpeg to fix this automatically\n",
      "ERROR: Postprocessing: ffprobe and ffmpeg not found. Please install or provide the path using --ffmpeg-location\n",
      "WARNING: Post-Processor arguments given without specifying name. The arguments will be given to all post-processors\n"
     ]
    },
    {
     "name": "stdout",
     "output_type": "stream",
     "text": [
      "[youtube] Extracting URL: https://www.youtube.com/watch?v=--0FMNFsVeg\n",
      "[youtube] --0FMNFsVeg: Downloading webpage\n",
      "[youtube] --0FMNFsVeg: Downloading ios player API JSON\n",
      "[youtube] --0F7kbzAMA: Downloading m3u8 information\n",
      "[info] --0F7kbzAMA: Downloading 1 format(s): 251\n",
      "[download] Destination: ../cache/audioset/train/Speech/--0F7kbzAMA_30.0-40.0.webm\n",
      "[download] 100% of    1.32MiB in 00:00:00 at 11.27MiB/s  \n"
     ]
    },
    {
     "name": "stderr",
     "output_type": "stream",
     "text": [
      "ERROR: Postprocessing: ffprobe and ffmpeg not found. Please install or provide the path using --ffmpeg-location\n",
      "WARNING: Post-Processor arguments given without specifying name. The arguments will be given to all post-processors\n"
     ]
    },
    {
     "name": "stdout",
     "output_type": "stream",
     "text": [
      "[youtube] --0FMNFsVeg: Downloading m3u8 information\n",
      "[youtube] Extracting URL: https://www.youtube.com/watch?v=--0MF9K5N30\n",
      "[youtube] --0MF9K5N30: Downloading webpage\n",
      "[info] --0FMNFsVeg: Downloading 1 format(s): 251\n",
      "[download] Destination: ../cache/audioset/train/Bass guitar/--0FMNFsVeg_30.0-40.0.webm\n",
      "[download] 100% of    4.58MiB in 00:00:00 at 35.69MiB/s  \n"
     ]
    },
    {
     "name": "stderr",
     "output_type": "stream",
     "text": [
      "ERROR: Postprocessing: ffprobe and ffmpeg not found. Please install or provide the path using --ffmpeg-location\n"
     ]
    },
    {
     "name": "stdout",
     "output_type": "stream",
     "text": [
      "[youtube] --0MF9K5N30: Downloading ios player API JSON\n"
     ]
    },
    {
     "name": "stderr",
     "output_type": "stream",
     "text": [
      "WARNING: Post-Processor arguments given without specifying name. The arguments will be given to all post-processors\n"
     ]
    },
    {
     "name": "stdout",
     "output_type": "stream",
     "text": [
      "[youtube] Extracting URL: https://www.youtube.com/watch?v=--0Oh0JxzjQ\n",
      "[youtube] --0Oh0JxzjQ: Downloading webpage\n",
      "[youtube] --0Oh0JxzjQ: Downloading ios player API JSON\n",
      "[youtube] --0MF9K5N30: Downloading m3u8 information\n",
      "[info] --0MF9K5N30: Downloading 1 format(s): 251\n",
      "[download] Destination: ../cache/audioset/train/Speech/--0MF9K5N30_30.0-40.0.webm\n",
      "[download] 100% of    1.22MiB in 00:00:00 at 11.68MiB/s  \n"
     ]
    },
    {
     "name": "stderr",
     "output_type": "stream",
     "text": [
      "ERROR: Postprocessing: ffprobe and ffmpeg not found. Please install or provide the path using --ffmpeg-location\n"
     ]
    },
    {
     "name": "stdout",
     "output_type": "stream",
     "text": [
      "[youtube] --0Oh0JxzjQ: Downloading m3u8 information\n",
      "[info] --0Oh0JxzjQ: Downloading 1 format(s): 251\n"
     ]
    },
    {
     "name": "stderr",
     "output_type": "stream",
     "text": [
      "WARNING: Post-Processor arguments given without specifying name. The arguments will be given to all post-processors\n",
      "ERROR: Postprocessing: ffprobe and ffmpeg not found. Please install or provide the path using --ffmpeg-location\n"
     ]
    },
    {
     "name": "stdout",
     "output_type": "stream",
     "text": [
      "[download] Destination: ../cache/audioset/train/Guitar/--0Oh0JxzjQ_30.0-40.0.webm\n",
      "[download] 100% of    3.76MiB in 00:00:00 at 29.97MiB/s  \n",
      "[youtube] Extracting URL: https://www.youtube.com/watch?v=--0PQM4-hqg\n",
      "[youtube] --0PQM4-hqg: Downloading webpage\n"
     ]
    },
    {
     "name": "stderr",
     "output_type": "stream",
     "text": [
      "WARNING: [youtube] Webpage contains broken formats (poToken experiment detected). Ignoring initial player response\n",
      "WARNING: Post-Processor arguments given without specifying name. The arguments will be given to all post-processors\n"
     ]
    },
    {
     "name": "stdout",
     "output_type": "stream",
     "text": [
      "[youtube] --0PQM4-hqg: Downloading ios player API JSON\n",
      "[youtube] --0PQM4-hqg: Downloading player 250a2ff7\n",
      "[youtube] --0PQM4-hqg: Downloading web player API JSON\n",
      "[youtube] Extracting URL: https://www.youtube.com/watch?v=--0XKTm28ts\n",
      "[youtube] --0XKTm28ts: Downloading webpage\n",
      "[youtube] --0XKTm28ts: Downloading ios player API JSON\n",
      "[youtube] --0PQM4-hqg: Downloading m3u8 information\n",
      "[info] --0PQM4-hqg: Downloading 1 format(s): 140\n",
      "[download] Destination: ../cache/audioset/train/Gurgling/--0PQM4-hqg_30.0-40.0.m4a\n",
      "[download] 100% of  799.67KiB in 00:00:00 at 7.37MiB/s   \n",
      "[youtube] --0XKTm28ts: Downloading m3u8 information\n"
     ]
    },
    {
     "name": "stderr",
     "output_type": "stream",
     "text": [
      "WARNING: --0PQM4-hqg: writing DASH m4a. Only some players support this container. Install ffmpeg to fix this automatically\n",
      "ERROR: Postprocessing: ffprobe and ffmpeg not found. Please install or provide the path using --ffmpeg-location\n"
     ]
    },
    {
     "name": "stdout",
     "output_type": "stream",
     "text": [
      "[info] --0XKTm28ts: Downloading 1 format(s): 140\n",
      "[download] Destination: ../cache/audioset/train/Vehicle/--0XKTm28ts_50.0-60.0.m4a\n",
      "[download] 100% of    1.06MiB in 00:00:00 at 12.06MiB/s  \n"
     ]
    },
    {
     "name": "stderr",
     "output_type": "stream",
     "text": [
      "WARNING: --0XKTm28ts: writing DASH m4a. Only some players support this container. Install ffmpeg to fix this automatically\n",
      "ERROR: Postprocessing: ffprobe and ffmpeg not found. Please install or provide the path using --ffmpeg-location\n",
      "[Parallel(n_jobs=2)]: Done  21 tasks      | elapsed:   29.3s\n",
      "WARNING: Post-Processor arguments given without specifying name. The arguments will be given to all post-processors\n"
     ]
    },
    {
     "name": "stdout",
     "output_type": "stream",
     "text": [
      "[youtube] Extracting URL: https://www.youtube.com/watch?v=--0_x3T5DQI\n",
      "[youtube] --0_x3T5DQI: Downloading webpage\n",
      "[youtube] --0_x3T5DQI: Downloading ios player API JSON\n"
     ]
    },
    {
     "name": "stderr",
     "output_type": "stream",
     "text": [
      "WARNING: Post-Processor arguments given without specifying name. The arguments will be given to all post-processors\n"
     ]
    },
    {
     "name": "stdout",
     "output_type": "stream",
     "text": [
      "[youtube] Extracting URL: https://www.youtube.com/watch?v=--0aJtOMp2M\n",
      "[youtube] --0aJtOMp2M: Downloading webpage\n"
     ]
    },
    {
     "name": "stderr",
     "output_type": "stream",
     "text": [
      "ERROR: [youtube] --0_x3T5DQI: Video unavailable. This video is no longer available because the YouTube account associated with this video has been terminated.\n"
     ]
    },
    {
     "name": "stdout",
     "output_type": "stream",
     "text": [
      "[youtube] --0aJtOMp2M: Downloading ios player API JSON\n"
     ]
    },
    {
     "name": "stderr",
     "output_type": "stream",
     "text": [
      "WARNING: Post-Processor arguments given without specifying name. The arguments will be given to all post-processors\n"
     ]
    },
    {
     "name": "stdout",
     "output_type": "stream",
     "text": [
      "[youtube] Extracting URL: https://www.youtube.com/watch?v=--0bntG9i7E\n",
      "[youtube] --0bntG9i7E: Downloading webpage\n",
      "[youtube] --0bntG9i7E: Downloading ios player API JSON\n",
      "[youtube] --0aJtOMp2M: Downloading m3u8 information\n",
      "[info] --0aJtOMp2M: Downloading 1 format(s): 140\n",
      "[download] Destination: ../cache/audioset/train/Music/--0aJtOMp2M_30.0-40.0.m4a\n",
      "[download] 100% of    4.14MiB in 00:00:00 at 28.73MiB/s  \n"
     ]
    },
    {
     "name": "stderr",
     "output_type": "stream",
     "text": [
      "WARNING: --0aJtOMp2M: writing DASH m4a. Only some players support this container. Install ffmpeg to fix this automatically\n",
      "ERROR: Postprocessing: ffprobe and ffmpeg not found. Please install or provide the path using --ffmpeg-location\n"
     ]
    },
    {
     "name": "stdout",
     "output_type": "stream",
     "text": [
      "[youtube] --0bntG9i7E: Downloading m3u8 information\n",
      "[info] --0bntG9i7E: Downloading 1 format(s): 251\n"
     ]
    },
    {
     "name": "stderr",
     "output_type": "stream",
     "text": [
      "WARNING: Post-Processor arguments given without specifying name. The arguments will be given to all post-processors\n"
     ]
    },
    {
     "name": "stdout",
     "output_type": "stream",
     "text": [
      "[youtube] Extracting URL: https://www.youtube.com/watch?v=--0fYwELbpk\n",
      "[youtube] --0fYwELbpk: Downloading webpage\n",
      "[download] Destination: ../cache/audioset/train/Female singing/--0bntG9i7E_30.0-40.0.webm\n",
      "[download] 100% of 1009.04KiB in 00:00:00 at 2.56MiB/s   \n"
     ]
    },
    {
     "name": "stderr",
     "output_type": "stream",
     "text": [
      "ERROR: Postprocessing: ffprobe and ffmpeg not found. Please install or provide the path using --ffmpeg-location\n"
     ]
    },
    {
     "name": "stdout",
     "output_type": "stream",
     "text": [
      "[youtube] --0fYwELbpk: Downloading ios player API JSON\n"
     ]
    },
    {
     "name": "stderr",
     "output_type": "stream",
     "text": [
      "WARNING: Post-Processor arguments given without specifying name. The arguments will be given to all post-processors\n"
     ]
    },
    {
     "name": "stdout",
     "output_type": "stream",
     "text": [
      "[youtube] --0fYwELbpk: Downloading m3u8 information\n",
      "[youtube] Extracting URL: https://www.youtube.com/watch?v=--0fim4-6Ig\n",
      "[youtube] --0fim4-6Ig: Downloading webpage\n",
      "[info] --0fYwELbpk: Downloading 1 format(s): 140\n",
      "[download] Destination: ../cache/audioset/train/Music/--0fYwELbpk_30.0-40.0.m4a\n",
      "[download] 100% of    9.19MiB in 00:00:00 at 42.29MiB/s  \n"
     ]
    },
    {
     "name": "stderr",
     "output_type": "stream",
     "text": [
      "WARNING: --0fYwELbpk: writing DASH m4a. Only some players support this container. Install ffmpeg to fix this automatically\n",
      "ERROR: Postprocessing: ffprobe and ffmpeg not found. Please install or provide the path using --ffmpeg-location\n"
     ]
    },
    {
     "name": "stdout",
     "output_type": "stream",
     "text": [
      "[youtube] --0fim4-6Ig: Downloading ios player API JSON\n"
     ]
    },
    {
     "name": "stderr",
     "output_type": "stream",
     "text": [
      "WARNING: Post-Processor arguments given without specifying name. The arguments will be given to all post-processors\n"
     ]
    },
    {
     "name": "stdout",
     "output_type": "stream",
     "text": [
      "[youtube] Extracting URL: https://www.youtube.com/watch?v=--0pVlB7mQ8\n",
      "[youtube] --0pVlB7mQ8: Downloading webpage\n",
      "[youtube] --0fim4-6Ig: Downloading m3u8 information\n",
      "[info] --0fim4-6Ig: Downloading 1 format(s): 140\n",
      "[download] Destination: ../cache/audioset/train/Guitar/--0fim4-6Ig_30.0-40.0.m4a\n",
      "[download]  21.6% of    9.24MiB at   44.46MiB/s ETA 00:00[youtube] --0pVlB7mQ8: Downloading ios player API JSON\n",
      "[download] 100% of    9.24MiB in 00:00:00 at 39.68MiB/s  \n"
     ]
    },
    {
     "name": "stderr",
     "output_type": "stream",
     "text": [
      "WARNING: --0fim4-6Ig: writing DASH m4a. Only some players support this container. Install ffmpeg to fix this automatically\n",
      "ERROR: Postprocessing: ffprobe and ffmpeg not found. Please install or provide the path using --ffmpeg-location\n",
      "WARNING: Post-Processor arguments given without specifying name. The arguments will be given to all post-processors\n"
     ]
    },
    {
     "name": "stdout",
     "output_type": "stream",
     "text": [
      "[youtube] Extracting URL: https://www.youtube.com/watch?v=--0ukMG7yH4\n",
      "[youtube] --0ukMG7yH4: Downloading webpage\n",
      "[youtube] --0pVlB7mQ8: Downloading m3u8 information\n",
      "[info] --0pVlB7mQ8: Downloading 1 format(s): 251\n",
      "[download] Destination: ../cache/audioset/train/Speech/--0pVlB7mQ8_30.0-40.0.webm\n",
      "[download] 100% of    4.50MiB in 00:00:00 at 34.34MiB/s  \n",
      "[youtube] --0ukMG7yH4: Downloading ios player API JSON\n"
     ]
    },
    {
     "name": "stderr",
     "output_type": "stream",
     "text": [
      "ERROR: Postprocessing: ffprobe and ffmpeg not found. Please install or provide the path using --ffmpeg-location\n",
      "WARNING: Post-Processor arguments given without specifying name. The arguments will be given to all post-processors\n"
     ]
    },
    {
     "name": "stdout",
     "output_type": "stream",
     "text": [
      "[youtube] --0ukMG7yH4: Downloading m3u8 information\n",
      "[youtube] Extracting URL: https://www.youtube.com/watch?v=--0vTxLiRuQ\n",
      "[youtube] --0vTxLiRuQ: Downloading webpage\n",
      "[info] --0ukMG7yH4: Downloading 1 format(s): 140\n",
      "[download] Destination: ../cache/audioset/train/Speech/--0ukMG7yH4_30.0-40.0.m4a\n",
      "[download] 100% of   11.14MiB in 00:00:00 at 41.17MiB/s    \n"
     ]
    },
    {
     "name": "stderr",
     "output_type": "stream",
     "text": [
      "WARNING: --0ukMG7yH4: writing DASH m4a. Only some players support this container. Install ffmpeg to fix this automatically\n",
      "ERROR: Postprocessing: ffprobe and ffmpeg not found. Please install or provide the path using --ffmpeg-location\n"
     ]
    },
    {
     "name": "stdout",
     "output_type": "stream",
     "text": [
      "[youtube] --0vTxLiRuQ: Downloading ios player API JSON\n"
     ]
    },
    {
     "name": "stderr",
     "output_type": "stream",
     "text": [
      "[Parallel(n_jobs=2)]: Done  28 tasks      | elapsed:   38.8s\n",
      "WARNING: Post-Processor arguments given without specifying name. The arguments will be given to all post-processors\n"
     ]
    },
    {
     "name": "stdout",
     "output_type": "stream",
     "text": [
      "[youtube] Extracting URL: https://www.youtube.com/watch?v=--0w1YA1Hm4\n",
      "[youtube] --0w1YA1Hm4: Downloading webpage\n",
      "[youtube] --0vTxLiRuQ: Downloading m3u8 information\n",
      "[info] --0vTxLiRuQ: Downloading 1 format(s): 140\n",
      "[download] Destination: ../cache/audioset/train/Music/--0vTxLiRuQ_4.0-14.0.m4a\n",
      "[download] 100% of  222.74KiB in 00:00:00 at 2.63MiB/s   \n",
      "[youtube] --0w1YA1Hm4: Downloading ios player API JSON\n"
     ]
    },
    {
     "name": "stderr",
     "output_type": "stream",
     "text": [
      "WARNING: --0vTxLiRuQ: writing DASH m4a. Only some players support this container. Install ffmpeg to fix this automatically\n",
      "ERROR: Postprocessing: ffprobe and ffmpeg not found. Please install or provide the path using --ffmpeg-location\n",
      "WARNING: Post-Processor arguments given without specifying name. The arguments will be given to all post-processors\n"
     ]
    },
    {
     "name": "stdout",
     "output_type": "stream",
     "text": [
      "[youtube] Extracting URL: https://www.youtube.com/watch?v=--11PIhoFjg\n",
      "[youtube] --11PIhoFjg: Downloading webpage\n",
      "[youtube] --0w1YA1Hm4: Downloading m3u8 information\n",
      "[info] --0w1YA1Hm4: Downloading 1 format(s): 251\n",
      "[download] Destination: ../cache/audioset/train/Bus/--0w1YA1Hm4_30.0-40.0.webm\n",
      "[download]  13.2% of    3.78MiB at   18.39MiB/s ETA 00:00[youtube] --11PIhoFjg: Downloading ios player API JSON\n",
      "[download] 100% of    3.78MiB in 00:00:00 at 33.05MiB/s  \n",
      "[youtube] --11PIhoFjg: Downloading player 0e90208b\n",
      "[youtube] --11PIhoFjg: Downloading web player API JSON\n"
     ]
    },
    {
     "name": "stderr",
     "output_type": "stream",
     "text": [
      "WARNING: [youtube] Webpage contains broken formats (poToken experiment detected). Ignoring initial player response\n",
      "ERROR: Postprocessing: ffprobe and ffmpeg not found. Please install or provide the path using --ffmpeg-location\n",
      "WARNING: Post-Processor arguments given without specifying name. The arguments will be given to all post-processors\n"
     ]
    },
    {
     "name": "stdout",
     "output_type": "stream",
     "text": [
      "[youtube] Extracting URL: https://www.youtube.com/watch?v=--12UOziMF0\n",
      "[youtube] --12UOziMF0: Downloading webpage\n",
      "[youtube] --11PIhoFjg: Downloading m3u8 information\n",
      "[youtube] --12UOziMF0: Downloading ios player API JSON\n",
      "[info] --11PIhoFjg: Downloading 1 format(s): 251\n"
     ]
    },
    {
     "name": "stderr",
     "output_type": "stream",
     "text": [
      "WARNING: [youtube] Webpage contains broken formats (poToken experiment detected). Ignoring initial player response\n",
      "ERROR: Postprocessing: ffprobe and ffmpeg not found. Please install or provide the path using --ffmpeg-location\n"
     ]
    },
    {
     "name": "stdout",
     "output_type": "stream",
     "text": [
      "[youtube] --12UOziMF0: Downloading player 250a2ff7\n",
      "[download] Destination: ../cache/audioset/train/Clatter/--11PIhoFjg_30.0-40.0.webm\n",
      "[download] 100.0% of    1.65MiB at   42.42MiB/s ETA 00:00[youtube] --12UOziMF0: Downloading web player API JSON\n",
      "[download] 100% of    1.65MiB in 00:00:00 at 11.70MiB/s  \n",
      "[youtube] --12UOziMF0: Downloading web player API JSON\n"
     ]
    },
    {
     "name": "stderr",
     "output_type": "stream",
     "text": [
      "WARNING: [youtube] API returned broken formats (poToken experiment detected). Retrying (1/3)...\n",
      "WARNING: Post-Processor arguments given without specifying name. The arguments will be given to all post-processors\n"
     ]
    },
    {
     "name": "stdout",
     "output_type": "stream",
     "text": [
      "[youtube] Extracting URL: https://www.youtube.com/watch?v=--18xICqMoU\n",
      "[youtube] --18xICqMoU: Downloading webpage\n",
      "[youtube] --12UOziMF0: Downloading m3u8 information\n",
      "[info] --12UOziMF0: Downloading 1 format(s): 140\n",
      "[download] Destination: ../cache/audioset/train/Truck/--12UOziMF0_30.0-40.0.m4a\n",
      "[download] 100.0% of    1.76MiB at   43.80MiB/s ETA 00:00[youtube] --18xICqMoU: Downloading ios player API JSON\n",
      "[download] 100% of    1.76MiB in 00:00:00 at 11.10MiB/s  \n"
     ]
    },
    {
     "name": "stderr",
     "output_type": "stream",
     "text": [
      "WARNING: --12UOziMF0: writing DASH m4a. Only some players support this container. Install ffmpeg to fix this automatically\n",
      "ERROR: Postprocessing: ffprobe and ffmpeg not found. Please install or provide the path using --ffmpeg-location\n",
      "WARNING: Post-Processor arguments given without specifying name. The arguments will be given to all post-processors\n"
     ]
    },
    {
     "name": "stdout",
     "output_type": "stream",
     "text": [
      "[youtube] --18xICqMoU: Downloading m3u8 information\n",
      "[youtube] Extracting URL: https://www.youtube.com/watch?v=--1Bi_4aXyU\n",
      "[youtube] --1Bi_4aXyU: Downloading webpage\n",
      "[info] --18xICqMoU: Downloading 1 format(s): 140\n",
      "[download] Destination: ../cache/audioset/train/Music/--18xICqMoU_30.0-40.0.m4a\n",
      "[download] 100% of    1.86MiB in 00:00:00 at 17.06MiB/s  \n"
     ]
    },
    {
     "name": "stderr",
     "output_type": "stream",
     "text": [
      "WARNING: --18xICqMoU: writing DASH m4a. Only some players support this container. Install ffmpeg to fix this automatically\n",
      "ERROR: Postprocessing: ffprobe and ffmpeg not found. Please install or provide the path using --ffmpeg-location\n"
     ]
    },
    {
     "name": "stdout",
     "output_type": "stream",
     "text": [
      "[youtube] --1Bi_4aXyU: Downloading ios player API JSON\n"
     ]
    },
    {
     "name": "stderr",
     "output_type": "stream",
     "text": [
      "WARNING: Post-Processor arguments given without specifying name. The arguments will be given to all post-processors\n"
     ]
    },
    {
     "name": "stdout",
     "output_type": "stream",
     "text": [
      "[youtube] Extracting URL: https://www.youtube.com/watch?v=--1NzL0juik\n",
      "[youtube] --1NzL0juik: Downloading webpage\n",
      "[youtube] --1Bi_4aXyU: Downloading m3u8 information\n",
      "[info] --1Bi_4aXyU: Downloading 1 format(s): 140\n"
     ]
    },
    {
     "name": "stderr",
     "output_type": "stream",
     "text": [
      "WARNING: [youtube] Webpage contains broken formats (poToken experiment detected). Ignoring initial player response\n",
      "WARNING: --1Bi_4aXyU: writing DASH m4a. Only some players support this container. Install ffmpeg to fix this automatically\n",
      "ERROR: Postprocessing: ffprobe and ffmpeg not found. Please install or provide the path using --ffmpeg-location\n"
     ]
    },
    {
     "name": "stdout",
     "output_type": "stream",
     "text": [
      "[youtube] --1NzL0juik: Downloading ios player API JSON\n",
      "[download] Destination: ../cache/audioset/train/Speech/--1Bi_4aXyU_30.0-40.0.m4a\n",
      "[download]  81.5% of    4.91MiB at   52.87MiB/s ETA 00:00[youtube] --1NzL0juik: Downloading player 0e90208b\n",
      "[download] 100% of    4.91MiB in 00:00:00 at 32.49MiB/s  \n",
      "[youtube] --1NzL0juik: Downloading web player API JSON\n",
      "[youtube] --1NzL0juik: Downloading m3u8 information\n",
      "[info] --1NzL0juik: Downloading 1 format(s): 140\n",
      "[youtube] Extracting URL: https://www.youtube.com/watch?v=--1QYEYcVBs\n",
      "[youtube] --1QYEYcVBs: Downloading webpage\n"
     ]
    },
    {
     "name": "stderr",
     "output_type": "stream",
     "text": [
      "WARNING: Post-Processor arguments given without specifying name. The arguments will be given to all post-processors\n"
     ]
    },
    {
     "name": "stdout",
     "output_type": "stream",
     "text": [
      "[download] Destination: ../cache/audioset/train/Drum/--1NzL0juik_30.0-40.0.m4a\n",
      "[download] 100% of    5.49MiB in 00:00:00 at 31.86MiB/s  \n"
     ]
    },
    {
     "name": "stderr",
     "output_type": "stream",
     "text": [
      "WARNING: --1NzL0juik: writing DASH m4a. Only some players support this container. Install ffmpeg to fix this automatically\n",
      "ERROR: Postprocessing: ffprobe and ffmpeg not found. Please install or provide the path using --ffmpeg-location\n"
     ]
    },
    {
     "name": "stdout",
     "output_type": "stream",
     "text": [
      "[youtube] --1QYEYcVBs: Downloading ios player API JSON\n"
     ]
    },
    {
     "name": "stderr",
     "output_type": "stream",
     "text": [
      "WARNING: Post-Processor arguments given without specifying name. The arguments will be given to all post-processors\n"
     ]
    },
    {
     "name": "stdout",
     "output_type": "stream",
     "text": [
      "[youtube] Extracting URL: https://www.youtube.com/watch?v=--1UKJ18WMQ\n",
      "[youtube] --1UKJ18WMQ: Downloading webpage\n",
      "[youtube] --1QYEYcVBs: Downloading m3u8 information\n",
      "[youtube] --1UKJ18WMQ: Downloading ios player API JSON\n",
      "[info] --1QYEYcVBs: Downloading 1 format(s): 140\n",
      "[download] Destination: ../cache/audioset/train/Music/--1QYEYcVBs_30.0-40.0.m4a\n",
      "[download] 100% of    2.99MiB in 00:00:00 at 24.69MiB/s  \n"
     ]
    },
    {
     "name": "stderr",
     "output_type": "stream",
     "text": [
      "WARNING: --1QYEYcVBs: writing DASH m4a. Only some players support this container. Install ffmpeg to fix this automatically\n",
      "ERROR: Postprocessing: ffprobe and ffmpeg not found. Please install or provide the path using --ffmpeg-location\n",
      "WARNING: Post-Processor arguments given without specifying name. The arguments will be given to all post-processors\n"
     ]
    },
    {
     "name": "stdout",
     "output_type": "stream",
     "text": [
      "[youtube] Extracting URL: https://www.youtube.com/watch?v=--1XHaNcX2Y\n",
      "[youtube] --1XHaNcX2Y: Downloading webpage\n",
      "[youtube] --1UKJ18WMQ: Downloading m3u8 information\n",
      "[info] --1UKJ18WMQ: Downloading 1 format(s): 251\n",
      "[download] Destination: ../cache/audioset/train/Guitar/--1UKJ18WMQ_30.0-40.0.webm\n",
      "[download] 100% of    2.78MiB in 00:00:00 at 21.48MiB/s  \n"
     ]
    },
    {
     "name": "stderr",
     "output_type": "stream",
     "text": [
      "ERROR: Postprocessing: ffprobe and ffmpeg not found. Please install or provide the path using --ffmpeg-location\n",
      "[Parallel(n_jobs=2)]: Done  37 tasks      | elapsed:   51.5s\n"
     ]
    },
    {
     "name": "stdout",
     "output_type": "stream",
     "text": [
      "[youtube] --1XHaNcX2Y: Downloading ios player API JSON\n"
     ]
    },
    {
     "name": "stderr",
     "output_type": "stream",
     "text": [
      "WARNING: Post-Processor arguments given without specifying name. The arguments will be given to all post-processors\n"
     ]
    },
    {
     "name": "stdout",
     "output_type": "stream",
     "text": [
      "[youtube] Extracting URL: https://www.youtube.com/watch?v=--1l6WGE7AU\n",
      "[youtube] --1l6WGE7AU: Downloading webpage\n",
      "[youtube] --1l6WGE7AU: Downloading ios player API JSON\n",
      "[youtube] --1XHaNcX2Y: Downloading m3u8 information\n",
      "[info] --1XHaNcX2Y: Downloading 1 format(s): 251\n",
      "[download] Destination: ../cache/audioset/train/Singing/--1XHaNcX2Y_50.0-60.0.webm\n",
      "[download] 100% of    3.51MiB in 00:00:00 at 25.17MiB/s  \n"
     ]
    },
    {
     "name": "stderr",
     "output_type": "stream",
     "text": [
      "ERROR: Postprocessing: ffprobe and ffmpeg not found. Please install or provide the path using --ffmpeg-location\n"
     ]
    },
    {
     "name": "stdout",
     "output_type": "stream",
     "text": [
      "[youtube] --1l6WGE7AU: Downloading m3u8 information\n",
      "[info] --1l6WGE7AU: Downloading 1 format(s): 140\n",
      "[download] Destination: ../cache/audioset/train/Narration, monologue/--1l6WGE7AU_30.0-40.0.m4a\n",
      "[download] 100% of    4.25MiB in 00:00:00 at 32.96MiB/s  \n"
     ]
    },
    {
     "name": "stderr",
     "output_type": "stream",
     "text": [
      "WARNING: --1l6WGE7AU: writing DASH m4a. Only some players support this container. Install ffmpeg to fix this automatically\n",
      "ERROR: Postprocessing: ffprobe and ffmpeg not found. Please install or provide the path using --ffmpeg-location\n",
      "WARNING: Post-Processor arguments given without specifying name. The arguments will be given to all post-processors\n"
     ]
    },
    {
     "name": "stdout",
     "output_type": "stream",
     "text": [
      "[youtube] Extracting URL: https://www.youtube.com/watch?v=--1lWqRXR_Q\n",
      "[youtube] --1lWqRXR_Q: Downloading webpage\n"
     ]
    },
    {
     "name": "stderr",
     "output_type": "stream",
     "text": [
      "WARNING: [youtube] Webpage contains broken formats (poToken experiment detected). Ignoring initial player response\n",
      "WARNING: Post-Processor arguments given without specifying name. The arguments will be given to all post-processors\n",
      "ERROR: [youtube] --1lWqRXR_Q: Private video. Sign in if you've been granted access to this video\n"
     ]
    },
    {
     "name": "stdout",
     "output_type": "stream",
     "text": [
      "[youtube] --1lWqRXR_Q: Downloading ios player API JSON\n",
      "[youtube] --1lWqRXR_Q: Downloading player 250a2ff7\n",
      "[youtube] --1lWqRXR_Q: Downloading web player API JSON\n",
      "[youtube] Extracting URL: https://www.youtube.com/watch?v=--1nnAww5MY\n",
      "[youtube] --1nnAww5MY: Downloading webpage\n"
     ]
    },
    {
     "name": "stderr",
     "output_type": "stream",
     "text": [
      "WARNING: [youtube] Webpage contains broken formats (poToken experiment detected). Ignoring initial player response\n",
      "WARNING: Post-Processor arguments given without specifying name. The arguments will be given to all post-processors\n"
     ]
    },
    {
     "name": "stdout",
     "output_type": "stream",
     "text": [
      "[youtube] --1nnAww5MY: Downloading ios player API JSON\n",
      "[youtube] --1nnAww5MY: Downloading player 0e90208b\n",
      "[youtube] --1nnAww5MY: Downloading web player API JSON\n",
      "[youtube] Extracting URL: https://www.youtube.com/watch?v=--1rvyPa8UM\n",
      "[youtube] --1rvyPa8UM: Downloading webpage\n",
      "[youtube] --1nnAww5MY: Downloading m3u8 information\n",
      "[youtube] --1rvyPa8UM: Downloading ios player API JSON\n",
      "[info] --1nnAww5MY: Downloading 1 format(s): 140\n",
      "[download] Destination: ../cache/audioset/train/Speech/--1nnAww5MY_170.0-180.0.m4a\n",
      "[download] 100% of    5.36MiB in 00:00:00 at 38.35MiB/s  \n"
     ]
    },
    {
     "name": "stderr",
     "output_type": "stream",
     "text": [
      "WARNING: --1nnAww5MY: writing DASH m4a. Only some players support this container. Install ffmpeg to fix this automatically\n",
      "ERROR: Postprocessing: ffprobe and ffmpeg not found. Please install or provide the path using --ffmpeg-location\n"
     ]
    },
    {
     "name": "stdout",
     "output_type": "stream",
     "text": [
      "[youtube] --1rvyPa8UM: Downloading m3u8 information\n",
      "[info] --1rvyPa8UM: Downloading 1 format(s): 140\n",
      "[download] Destination: ../cache/audioset/train/Music/--1rvyPa8UM_40.0-50.0.m4a\n",
      "[download] 100% of    4.72MiB in 00:00:00 at 30.99MiB/s  \n",
      "[youtube] Extracting URL: https://www.youtube.com/watch?v=--1yd6dcNOQ\n",
      "[youtube] --1yd6dcNOQ: Downloading webpage\n"
     ]
    },
    {
     "name": "stderr",
     "output_type": "stream",
     "text": [
      "WARNING: Post-Processor arguments given without specifying name. The arguments will be given to all post-processors\n",
      "WARNING: --1rvyPa8UM: writing DASH m4a. Only some players support this container. Install ffmpeg to fix this automatically\n",
      "ERROR: Postprocessing: ffprobe and ffmpeg not found. Please install or provide the path using --ffmpeg-location\n"
     ]
    },
    {
     "name": "stdout",
     "output_type": "stream",
     "text": [
      "[youtube] --1yd6dcNOQ: Downloading ios player API JSON\n"
     ]
    },
    {
     "name": "stderr",
     "output_type": "stream",
     "text": [
      "WARNING: Post-Processor arguments given without specifying name. The arguments will be given to all post-processors\n"
     ]
    },
    {
     "name": "stdout",
     "output_type": "stream",
     "text": [
      "[youtube] Extracting URL: https://www.youtube.com/watch?v=--23nKOwPzs\n",
      "[youtube] --23nKOwPzs: Downloading webpage\n",
      "[youtube] --1yd6dcNOQ: Downloading m3u8 information\n",
      "[youtube] --23nKOwPzs: Downloading ios player API JSON\n",
      "[info] --1yd6dcNOQ: Downloading 1 format(s): 140\n",
      "[download] Destination: ../cache/audioset/train/Music/--1yd6dcNOQ_30.0-40.0.m4a\n",
      "[download] 100% of    2.60MiB in 00:00:00 at 22.25MiB/s  \n"
     ]
    },
    {
     "name": "stderr",
     "output_type": "stream",
     "text": [
      "WARNING: --1yd6dcNOQ: writing DASH m4a. Only some players support this container. Install ffmpeg to fix this automatically\n",
      "ERROR: Postprocessing: ffprobe and ffmpeg not found. Please install or provide the path using --ffmpeg-location\n"
     ]
    },
    {
     "ename": "KeyboardInterrupt",
     "evalue": "",
     "output_type": "error",
     "traceback": [
      "\u001b[0;31m---------------------------------------------------------------------------\u001b[0m",
      "\u001b[0;31mKeyboardInterrupt\u001b[0m                         Traceback (most recent call last)",
      "Cell \u001b[0;32mIn[5], line 9\u001b[0m\n\u001b[1;32m      1\u001b[0m d \u001b[38;5;241m=\u001b[39m Downloader(\n\u001b[1;32m      2\u001b[0m     root_path\u001b[38;5;241m=\u001b[39m\u001b[38;5;124m'\u001b[39m\u001b[38;5;124m../cache/audioset/train\u001b[39m\u001b[38;5;124m'\u001b[39m, \n\u001b[1;32m      3\u001b[0m     labels\u001b[38;5;241m=\u001b[39m\u001b[38;5;28;01mNone\u001b[39;00m, \n\u001b[0;32m   (...)\u001b[0m\n\u001b[1;32m      6\u001b[0m     copy_and_replicate\u001b[38;5;241m=\u001b[39m\u001b[38;5;28;01mFalse\u001b[39;00m\n\u001b[1;32m      7\u001b[0m )\n\u001b[0;32m----> 9\u001b[0m \u001b[43md\u001b[49m\u001b[38;5;241;43m.\u001b[39;49m\u001b[43mdownload\u001b[49m\u001b[43m(\u001b[49m\u001b[38;5;28;43mformat\u001b[39;49m\u001b[43m \u001b[49m\u001b[38;5;241;43m=\u001b[39;49m\u001b[43m \u001b[49m\u001b[38;5;124;43m'\u001b[39;49m\u001b[38;5;124;43mmp3\u001b[39;49m\u001b[38;5;124;43m'\u001b[39;49m\u001b[43m)\u001b[49m\n",
      "File \u001b[0;32m~/.conda/envs/audiodiff_env/lib/python3.11/site-packages/audioset_download/Downloader.py:86\u001b[0m, in \u001b[0;36mDownloader.download\u001b[0;34m(self, format, quality)\u001b[0m\n\u001b[1;32m     83\u001b[0m \u001b[38;5;28mprint\u001b[39m(\u001b[38;5;124mf\u001b[39m\u001b[38;5;124m'\u001b[39m\u001b[38;5;124mDownloading \u001b[39m\u001b[38;5;132;01m{\u001b[39;00m\u001b[38;5;28mlen\u001b[39m(metadata)\u001b[38;5;132;01m}\u001b[39;00m\u001b[38;5;124m files...\u001b[39m\u001b[38;5;124m'\u001b[39m)\n\u001b[1;32m     85\u001b[0m \u001b[38;5;66;03m# Download the dataset\u001b[39;00m\n\u001b[0;32m---> 86\u001b[0m \u001b[43mjoblib\u001b[49m\u001b[38;5;241;43m.\u001b[39;49m\u001b[43mParallel\u001b[49m\u001b[43m(\u001b[49m\u001b[43mn_jobs\u001b[49m\u001b[38;5;241;43m=\u001b[39;49m\u001b[38;5;28;43mself\u001b[39;49m\u001b[38;5;241;43m.\u001b[39;49m\u001b[43mn_jobs\u001b[49m\u001b[43m,\u001b[49m\u001b[43m \u001b[49m\u001b[43mverbose\u001b[49m\u001b[38;5;241;43m=\u001b[39;49m\u001b[38;5;241;43m10\u001b[39;49m\u001b[43m)\u001b[49m\u001b[43m(\u001b[49m\n\u001b[1;32m     87\u001b[0m \u001b[43m    \u001b[49m\u001b[43mjoblib\u001b[49m\u001b[38;5;241;43m.\u001b[39;49m\u001b[43mdelayed\u001b[49m\u001b[43m(\u001b[49m\u001b[38;5;28;43mself\u001b[39;49m\u001b[38;5;241;43m.\u001b[39;49m\u001b[43mdownload_file\u001b[49m\u001b[43m)\u001b[49m\u001b[43m(\u001b[49m\u001b[43mmetadata\u001b[49m\u001b[38;5;241;43m.\u001b[39;49m\u001b[43mloc\u001b[49m\u001b[43m[\u001b[49m\u001b[43mi\u001b[49m\u001b[43m,\u001b[49m\u001b[43m \u001b[49m\u001b[38;5;124;43m'\u001b[39;49m\u001b[38;5;124;43mYTID\u001b[39;49m\u001b[38;5;124;43m'\u001b[39;49m\u001b[43m]\u001b[49m\u001b[43m,\u001b[49m\u001b[43m \u001b[49m\u001b[43mmetadata\u001b[49m\u001b[38;5;241;43m.\u001b[39;49m\u001b[43mloc\u001b[49m\u001b[43m[\u001b[49m\u001b[43mi\u001b[49m\u001b[43m,\u001b[49m\u001b[43m \u001b[49m\u001b[38;5;124;43m'\u001b[39;49m\u001b[38;5;124;43mstart_seconds\u001b[39;49m\u001b[38;5;124;43m'\u001b[39;49m\u001b[43m]\u001b[49m\u001b[43m,\u001b[49m\u001b[43m \u001b[49m\u001b[43mmetadata\u001b[49m\u001b[38;5;241;43m.\u001b[39;49m\u001b[43mloc\u001b[49m\u001b[43m[\u001b[49m\u001b[43mi\u001b[49m\u001b[43m,\u001b[49m\u001b[43m \u001b[49m\u001b[38;5;124;43m'\u001b[39;49m\u001b[38;5;124;43mend_seconds\u001b[39;49m\u001b[38;5;124;43m'\u001b[39;49m\u001b[43m]\u001b[49m\u001b[43m,\u001b[49m\u001b[43m \u001b[49m\u001b[43mmetadata\u001b[49m\u001b[38;5;241;43m.\u001b[39;49m\u001b[43mloc\u001b[49m\u001b[43m[\u001b[49m\u001b[43mi\u001b[49m\u001b[43m,\u001b[49m\u001b[43m \u001b[49m\u001b[38;5;124;43m'\u001b[39;49m\u001b[38;5;124;43mpositive_labels\u001b[39;49m\u001b[38;5;124;43m'\u001b[39;49m\u001b[43m]\u001b[49m\u001b[43m)\u001b[49m\u001b[43m \u001b[49m\u001b[38;5;28;43;01mfor\u001b[39;49;00m\u001b[43m \u001b[49m\u001b[43mi\u001b[49m\u001b[43m \u001b[49m\u001b[38;5;129;43;01min\u001b[39;49;00m\u001b[43m \u001b[49m\u001b[38;5;28;43mrange\u001b[39;49m\u001b[43m(\u001b[49m\u001b[38;5;28;43mlen\u001b[39;49m\u001b[43m(\u001b[49m\u001b[43mmetadata\u001b[49m\u001b[43m)\u001b[49m\u001b[43m)\u001b[49m\n\u001b[1;32m     88\u001b[0m \u001b[43m\u001b[49m\u001b[43m)\u001b[49m\n\u001b[1;32m     90\u001b[0m \u001b[38;5;28mprint\u001b[39m(\u001b[38;5;124m'\u001b[39m\u001b[38;5;124mDone.\u001b[39m\u001b[38;5;124m'\u001b[39m)\n",
      "File \u001b[0;32m~/.conda/envs/audiodiff_env/lib/python3.11/site-packages/joblib/parallel.py:2007\u001b[0m, in \u001b[0;36mParallel.__call__\u001b[0;34m(self, iterable)\u001b[0m\n\u001b[1;32m   2001\u001b[0m \u001b[38;5;66;03m# The first item from the output is blank, but it makes the interpreter\u001b[39;00m\n\u001b[1;32m   2002\u001b[0m \u001b[38;5;66;03m# progress until it enters the Try/Except block of the generator and\u001b[39;00m\n\u001b[1;32m   2003\u001b[0m \u001b[38;5;66;03m# reach the first `yield` statement. This starts the aynchronous\u001b[39;00m\n\u001b[1;32m   2004\u001b[0m \u001b[38;5;66;03m# dispatch of the tasks to the workers.\u001b[39;00m\n\u001b[1;32m   2005\u001b[0m \u001b[38;5;28mnext\u001b[39m(output)\n\u001b[0;32m-> 2007\u001b[0m \u001b[38;5;28;01mreturn\u001b[39;00m output \u001b[38;5;28;01mif\u001b[39;00m \u001b[38;5;28mself\u001b[39m\u001b[38;5;241m.\u001b[39mreturn_generator \u001b[38;5;28;01melse\u001b[39;00m \u001b[38;5;28;43mlist\u001b[39;49m\u001b[43m(\u001b[49m\u001b[43moutput\u001b[49m\u001b[43m)\u001b[49m\n",
      "File \u001b[0;32m~/.conda/envs/audiodiff_env/lib/python3.11/site-packages/joblib/parallel.py:1650\u001b[0m, in \u001b[0;36mParallel._get_outputs\u001b[0;34m(self, iterator, pre_dispatch)\u001b[0m\n\u001b[1;32m   1647\u001b[0m     \u001b[38;5;28;01myield\u001b[39;00m\n\u001b[1;32m   1649\u001b[0m     \u001b[38;5;28;01mwith\u001b[39;00m \u001b[38;5;28mself\u001b[39m\u001b[38;5;241m.\u001b[39m_backend\u001b[38;5;241m.\u001b[39mretrieval_context():\n\u001b[0;32m-> 1650\u001b[0m         \u001b[38;5;28;01myield from\u001b[39;00m \u001b[38;5;28mself\u001b[39m\u001b[38;5;241m.\u001b[39m_retrieve()\n\u001b[1;32m   1652\u001b[0m \u001b[38;5;28;01mexcept\u001b[39;00m \u001b[38;5;167;01mGeneratorExit\u001b[39;00m:\n\u001b[1;32m   1653\u001b[0m     \u001b[38;5;66;03m# The generator has been garbage collected before being fully\u001b[39;00m\n\u001b[1;32m   1654\u001b[0m     \u001b[38;5;66;03m# consumed. This aborts the remaining tasks if possible and warn\u001b[39;00m\n\u001b[1;32m   1655\u001b[0m     \u001b[38;5;66;03m# the user if necessary.\u001b[39;00m\n\u001b[1;32m   1656\u001b[0m     \u001b[38;5;28mself\u001b[39m\u001b[38;5;241m.\u001b[39m_exception \u001b[38;5;241m=\u001b[39m \u001b[38;5;28;01mTrue\u001b[39;00m\n",
      "File \u001b[0;32m~/.conda/envs/audiodiff_env/lib/python3.11/site-packages/joblib/parallel.py:1762\u001b[0m, in \u001b[0;36mParallel._retrieve\u001b[0;34m(self)\u001b[0m\n\u001b[1;32m   1757\u001b[0m \u001b[38;5;66;03m# If the next job is not ready for retrieval yet, we just wait for\u001b[39;00m\n\u001b[1;32m   1758\u001b[0m \u001b[38;5;66;03m# async callbacks to progress.\u001b[39;00m\n\u001b[1;32m   1759\u001b[0m \u001b[38;5;28;01mif\u001b[39;00m ((\u001b[38;5;28mlen\u001b[39m(\u001b[38;5;28mself\u001b[39m\u001b[38;5;241m.\u001b[39m_jobs) \u001b[38;5;241m==\u001b[39m \u001b[38;5;241m0\u001b[39m) \u001b[38;5;129;01mor\u001b[39;00m\n\u001b[1;32m   1760\u001b[0m     (\u001b[38;5;28mself\u001b[39m\u001b[38;5;241m.\u001b[39m_jobs[\u001b[38;5;241m0\u001b[39m]\u001b[38;5;241m.\u001b[39mget_status(\n\u001b[1;32m   1761\u001b[0m         timeout\u001b[38;5;241m=\u001b[39m\u001b[38;5;28mself\u001b[39m\u001b[38;5;241m.\u001b[39mtimeout) \u001b[38;5;241m==\u001b[39m TASK_PENDING)):\n\u001b[0;32m-> 1762\u001b[0m     time\u001b[38;5;241m.\u001b[39msleep(\u001b[38;5;241m0.01\u001b[39m)\n\u001b[1;32m   1763\u001b[0m     \u001b[38;5;28;01mcontinue\u001b[39;00m\n\u001b[1;32m   1765\u001b[0m \u001b[38;5;66;03m# We need to be careful: the job list can be filling up as\u001b[39;00m\n\u001b[1;32m   1766\u001b[0m \u001b[38;5;66;03m# we empty it and Python list are not thread-safe by\u001b[39;00m\n\u001b[1;32m   1767\u001b[0m \u001b[38;5;66;03m# default hence the use of the lock\u001b[39;00m\n",
      "\u001b[0;31mKeyboardInterrupt\u001b[0m: "
     ]
    }
   ],
   "source": [
    "d = Downloader(\n",
    "    root_path='../cache/audioset/train', \n",
    "    labels=None, \n",
    "    n_jobs=2, \n",
    "    download_type='unbalanced_train', \n",
    "    copy_and_replicate=False\n",
    ")\n",
    "\n",
    "d.download(format = 'mp3')"
   ]
  },
  {
   "cell_type": "markdown",
   "metadata": {},
   "source": [
    "### View datasets"
   ]
  },
  {
   "cell_type": "code",
   "execution_count": 10,
   "metadata": {},
   "outputs": [],
   "source": [
    "from datasets import load_dataset, load_from_disk\n",
    "import torch\n",
    "\n",
    "dataset = load_from_disk(\n",
    "    \"../cache/spotify_sleep_dataset/waveform_small/bigvgan_2048_128\"\n",
    ")[\"train\"]"
   ]
  },
  {
   "cell_type": "code",
   "execution_count": 11,
   "metadata": {},
   "outputs": [],
   "source": [
    "mels = dataset['mel']"
   ]
  },
  {
   "cell_type": "code",
   "execution_count": null,
   "metadata": {},
   "outputs": [
    {
     "data": {
      "text/plain": [
       "tensor(1.9415)"
      ]
     },
     "execution_count": 17,
     "metadata": {},
     "output_type": "execute_result"
    }
   ],
   "source": [
    "# FINISH FROM HERE\n",
    "# continue testing the max and min of the dataset, but use the entire spotify sleep dataset\n",
    "\n",
    "torch.max(torch.tensor(mels))"
   ]
  }
 ],
 "metadata": {
  "kernelspec": {
   "display_name": "audiodiff_env",
   "language": "python",
   "name": "python3"
  },
  "language_info": {
   "codemirror_mode": {
    "name": "ipython",
    "version": 3
   },
   "file_extension": ".py",
   "mimetype": "text/x-python",
   "name": "python",
   "nbconvert_exporter": "python",
   "pygments_lexer": "ipython3",
   "version": "3.11.7"
  }
 },
 "nbformat": 4,
 "nbformat_minor": 2
}
